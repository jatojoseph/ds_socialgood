{
  "nbformat": 4,
  "nbformat_minor": 0,
  "metadata": {
    "colab": {
      "name": "allquest.ipynb",
      "provenance": [],
      "include_colab_link": true
    },
    "kernelspec": {
      "name": "python3",
      "display_name": "Python 3"
    }
  },
  "cells": [
    {
      "cell_type": "markdown",
      "metadata": {
        "id": "view-in-github",
        "colab_type": "text"
      },
      "source": [
        "<a href=\"https://colab.research.google.com/github/jatojoseph/ds_socialgood/blob/master/allquest.ipynb\" target=\"_parent\"><img src=\"https://colab.research.google.com/assets/colab-badge.svg\" alt=\"Open In Colab\"/></a>"
      ]
    },
    {
      "cell_type": "markdown",
      "metadata": {
        "id": "2rnuk-XrZfYR",
        "colab_type": "text"
      },
      "source": [
        "This Notebooks will hold all codes exercises from the DataQuest DataAnalyst Course. The final target is to open source this project so as to make things easy for begginers in the industry."
      ]
    },
    {
      "cell_type": "code",
      "metadata": {
        "id": "pUiQuMLOp1Ae",
        "colab_type": "code",
        "colab": {}
      },
      "source": [
        "# Function opens a CSV file \n",
        "def open_dataset(file_name = ''):\n",
        "    \n",
        "    opened_file = open(file_name)\n",
        "    from csv import reader\n",
        "    read_file = reader(opened_file)\n",
        "    data = list(read_file)\n",
        "    \n",
        "    return data\n",
        "\n",
        "dataset = open_dataset()"
      ],
      "execution_count": 0,
      "outputs": []
    },
    {
      "cell_type": "code",
      "metadata": {
        "id": "yXy3wk4ntQYa",
        "colab_type": "code",
        "colab": {}
      },
      "source": [
        "# Function prints data values with or without header row\n",
        "def open_dataset(file_name='AppleStore.csv', header = True):\n",
        "    opened_file = open(file_name)\n",
        "    from csv import reader\n",
        "    read_file = reader(opened_file)\n",
        "    data = list(read_file)\n",
        "    if header:\n",
        "        return data[1:]\n",
        "    else:\n",
        "        return data\n",
        "        \n",
        "    \n",
        "apps_data = open_dataset()"
      ],
      "execution_count": 0,
      "outputs": []
    },
    {
      "cell_type": "code",
      "metadata": {
        "id": "oMCAvmfUZvj4",
        "colab_type": "code",
        "colab": {}
      },
      "source": [
        "# Finds the sum of a list\n",
        "def find_sum(a_list):\n",
        "    a_sum = 0\n",
        "    for element in a_list:\n",
        "        a_sum += element\n",
        "    return a_sum\n",
        "list_1 = [5, 10, 15]\n",
        "find_sum(list_1)"
      ],
      "execution_count": 0,
      "outputs": []
    },
    {
      "cell_type": "code",
      "metadata": {
        "id": "oNpo1y2j6sZt",
        "colab_type": "code",
        "colab": {}
      },
      "source": [
        ""
      ],
      "execution_count": 0,
      "outputs": []
    }
  ]
}